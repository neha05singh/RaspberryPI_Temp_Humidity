{
 "cells": [
  {
   "cell_type": "code",
   "execution_count": 4,
   "id": "5d07126f-ef7d-4c7e-b950-7cac57bf537e",
   "metadata": {},
   "outputs": [
    {
     "name": "stdout",
     "output_type": "stream",
     "text": [
      "Temperature: 50.00°C, Humidity: 25.00%\n",
      "Temperature: 50.00°C, Humidity: 25.00%\n",
      "Temperature: 50.00°C, Humidity: 25.00%\n",
      "Temperature: 50.00°C, Humidity: 25.00%\n",
      "Temperature: 50.00°C, Humidity: 25.00%\n",
      "Temperature: 50.00°C, Humidity: 25.00%\n",
      "Temperature: 50.00°C, Humidity: 25.00%\n",
      "Temperature: 50.00°C, Humidity: 25.00%\n",
      "Temperature: 50.00°C, Humidity: 25.00%\n",
      "Temperature: 50.00°C, Humidity: 25.00%\n",
      "Temperature: 50.00°C, Humidity: 25.00%\n",
      "Temperature: 50.00°C, Humidity: 25.00%\n",
      "Temperature: 50.00°C, Humidity: 25.00%\n",
      "Temperature: 50.00°C, Humidity: 25.00%\n",
      "Temperature: 50.00°C, Humidity: 25.00%\n",
      "Temperature: 50.00°C, Humidity: 25.00%\n",
      "Temperature: 50.00°C, Humidity: 25.00%\n",
      "Temperature: 50.00°C, Humidity: 25.00%\n"
     ]
    },
    {
     "ename": "KeyboardInterrupt",
     "evalue": "",
     "output_type": "error",
     "traceback": [
      "\u001b[1;31m---------------------------------------------------------------------------\u001b[0m",
      "\u001b[1;31mKeyboardInterrupt\u001b[0m                         Traceback (most recent call last)",
      "Cell \u001b[1;32mIn [4], line 32\u001b[0m\n\u001b[0;32m     29\u001b[0m     \u001b[38;5;28mprint\u001b[39m(\u001b[38;5;124m'\u001b[39m\u001b[38;5;124mFailed to get reading. Try again!\u001b[39m\u001b[38;5;124m'\u001b[39m)\n\u001b[0;32m     31\u001b[0m \u001b[38;5;66;03m# Wait for a few seconds before the next reading\u001b[39;00m\n\u001b[1;32m---> 32\u001b[0m \u001b[43mtime\u001b[49m\u001b[38;5;241;43m.\u001b[39;49m\u001b[43msleep\u001b[49m\u001b[43m(\u001b[49m\u001b[38;5;241;43m5\u001b[39;49m\u001b[43m)\u001b[49m\n",
      "\u001b[1;31mKeyboardInterrupt\u001b[0m: "
     ]
    }
   ],
   "source": [
    "import requests\n",
    "import time\n",
    "\n",
    "THINGSPEAK_API_KEY = \"Z8TUF32M48JMB243\"\n",
    "THINGSPEAK_CHANNEL_ID = \"2364639\"\n",
    "\n",
    "class MockDHTSensor:\n",
    "    @staticmethod\n",
    "    def read_retry(sensor, pin):\n",
    "        # Simulate the behavior of the DHT sensor\n",
    "        # Replace with your desired temperature and humidity values\n",
    "        return 25.0, 50.0\n",
    "\n",
    "while True:\n",
    "    # Get the temperature and humidity\n",
    "    humidity, temperature = MockDHTSensor.read_retry(None, None)\n",
    "\n",
    "    # Check if reading was successful\n",
    "    if humidity is not None and temperature is not None:\n",
    "        print(f'Temperature: {temperature:.2f}°C, Humidity: {humidity:.2f}%')\n",
    "\n",
    "        # Add an additional simulated temperature reading\n",
    "        additional_temperature = temperature + 2.0\n",
    "\n",
    "        # Send data to ThingSpeak\n",
    "        url = f\"https://api.thingspeak.com/update?api_key={THINGSPEAK_API_KEY}&field1={temperature}&field2={humidity}&field3={additional_temperature}\"\n",
    "        requests.get(url)\n",
    "    else:\n",
    "        print('Failed to get reading. Try again!')\n",
    "\n",
    "    # Wait for a few seconds before the next reading\n",
    "    time.sleep(5)"
   ]
  },
  {
   "cell_type": "code",
   "execution_count": null,
   "id": "0f942a08-10bf-4fb1-9b98-be2af8ebb26a",
   "metadata": {},
   "outputs": [],
   "source": []
  }
 ],
 "metadata": {
  "kernelspec": {
   "display_name": "Python 3 (ipykernel)",
   "language": "python",
   "name": "python3"
  },
  "language_info": {
   "codemirror_mode": {
    "name": "ipython",
    "version": 3
   },
   "file_extension": ".py",
   "mimetype": "text/x-python",
   "name": "python",
   "nbconvert_exporter": "python",
   "pygments_lexer": "ipython3",
   "version": "3.10.7"
  }
 },
 "nbformat": 4,
 "nbformat_minor": 5
}
